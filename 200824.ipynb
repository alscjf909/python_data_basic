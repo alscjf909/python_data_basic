{
 "metadata": {
  "language_info": {
   "codemirror_mode": {
    "name": "ipython",
    "version": 3
   },
   "file_extension": ".py",
   "mimetype": "text/x-python",
   "name": "python",
   "nbconvert_exporter": "python",
   "pygments_lexer": "ipython3",
   "version": "3.8.3-final"
  },
  "orig_nbformat": 2,
  "kernelspec": {
   "name": "python38364bitdatacentercondac1d4bda37f37481f98de70392cb4ade1",
   "display_name": "Python 3.8.3 64-bit ('datacenter': conda)"
  }
 },
 "nbformat": 4,
 "nbformat_minor": 2,
 "cells": [
  {
   "cell_type": "code",
   "execution_count": 1,
   "metadata": {},
   "outputs": [],
   "source": [
    "import pandas as pd"
   ]
  },
  {
   "cell_type": "code",
   "execution_count": 7,
   "metadata": {
    "tags": []
   },
   "outputs": [
    {
     "output_type": "stream",
     "name": "stdout",
     "text": "Index(['조사연월', '가구별 일련번호', '가구구분', '가구원수', '취업인원수', '노인가구', '모자가구', '맞벌이가구',\n       '일반가구', '세대구분',\n       ...\n       '기타서비스', '비소비지출', '경상조세', '비경상조세', '연금', '사회보험', '이자비용', '가구간 이전지출',\n       '비영리단체로 이전', '도시/읍면부 구분'],\n      dtype='object', length=272)\n"
    }
   ],
   "source": [
    "데이타셋 = pd.read_csv('C:\\\\Users\\\\User\\\\PycharmProjects\\\\python_data_basic\\\\hello.csv')\n",
    "print(데이타셋.columns)"
   ]
  },
  {
   "cell_type": "code",
   "execution_count": null,
   "metadata": {},
   "outputs": [],
   "source": []
  }
 ]
}